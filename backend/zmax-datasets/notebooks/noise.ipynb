{
  "cells": [
    {
      "cell_type": "code",
      "execution_count": 2,
      "metadata": {},
      "outputs": [
        {
          "name": "stdout",
          "output_type": "stream",
          "text": [
            "6\n",
            "['P8-night3', 'P11-night3', 'P13-night3', 'P18-night3', 'P20-night3', 'P21-night2']\n"
          ]
        }
      ],
      "source": [
        "from zmax_datasets.datasets.usleep import USleepDataset\n",
        "from pathlib import Path\n",
        "import numpy as np\n",
        "\n",
        "DATASETS_DIR = Path(\"/project/4180000.46/zmax_datasets/accelerometer_usleep\")\n",
        "DATASET_NAME = \"donders_2018\"\n",
        "\n",
        "dataset = USleepDataset(data_dir=DATASETS_DIR / DATASET_NAME)\n",
        "print(dataset.n_recordings)\n",
        "print(dataset.recording_ids)\n"
      ]
    },
    {
      "cell_type": "code",
      "execution_count": 3,
      "metadata": {},
      "outputs": [
        {
          "name": "stdout",
          "output_type": "stream",
          "text": [
            "Available data types:\n",
            "{'ACCELEROMETER_X_dynamic': DataType(channel='ACCELEROMETER_X_dynamic', sampling_rate=64.0), 'ACCELEROMETER_Y_dynamic': DataType(channel='ACCELEROMETER_Y_dynamic', sampling_rate=64.0), 'ACCELEROMETER_Z_dynamic': DataType(channel='ACCELEROMETER_Z_dynamic', sampling_rate=64.0), 'ACCELEROMETER_magnitude': DataType(channel='ACCELEROMETER_magnitude', sampling_rate=64.0), 'ACCELEROMETER_magnitude_derivative': DataType(channel='ACCELEROMETER_magnitude_derivative', sampling_rate=64.0), 'NOISE': DataType(channel='NOISE', sampling_rate=64.0)}\n"
          ]
        }
      ],
      "source": [
        "# Get a sample recording\n",
        "sample_recording = dataset.get_recording(\"P8-night3\")\n",
        "print(\"Available data types:\")\n",
        "print(sample_recording.data_types)\n"
      ]
    },
    {
      "cell_type": "code",
      "execution_count": 4,
      "metadata": {},
      "outputs": [
        {
          "name": "stderr",
          "output_type": "stream",
          "text": [
            "\u001b[32m2025-09-05 13:33:09.454\u001b[0m | \u001b[1mINFO    \u001b[0m | \u001b[36mzmax_datasets.datasets.base\u001b[0m:\u001b[36mread_data_type\u001b[0m:\u001b[36m36\u001b[0m - \u001b[1mReading data type: NOISE\u001b[0m\n"
          ]
        },
        {
          "name": "stdout",
          "output_type": "stream",
          "text": [
            "\n",
            "Signal duration: 29720.0 seconds (495.3 minutes)\n",
            "Sampling rate: 64.0 Hz\n"
          ]
        }
      ],
      "source": [
        "# Load noise signal\n",
        "noise_signal = sample_recording.read_data_type(\"NOISE\")\n",
        "\n",
        "# Create time axis in seconds for the signal\n",
        "duration_seconds = len(noise_signal.array.squeeze()) / noise_signal.sample_rate\n",
        "time = np.linspace(0, duration_seconds, len(noise_signal.array.squeeze()))\n",
        "print(f\"\\nSignal duration: {duration_seconds:.1f} seconds ({duration_seconds/60:.1f} minutes)\")\n",
        "print(f\"Sampling rate: {noise_signal.sample_rate} Hz\")\n"
      ]
    },
    {
      "cell_type": "code",
      "execution_count": 5,
      "metadata": {},
      "outputs": [
        {
          "data": {
            "application/vnd.jupyter.widget-view+json": {
              "model_id": "ef9e2d9e1ac040799c2dee6501cebe26",
              "version_major": 2,
              "version_minor": 0
            },
            "text/plain": [
              "HBox(children=(FloatSlider(value=0.0, description='Start Time (s):', layout=Layout(width='500px'), max=29660.0…"
            ]
          },
          "metadata": {},
          "output_type": "display_data"
        },
        {
          "data": {
            "application/vnd.jupyter.widget-view+json": {
              "model_id": "c433354b10644018a1157d6abf4c4dad",
              "version_major": 2,
              "version_minor": 0
            },
            "text/plain": [
              "FigureWidget({\n",
              "    'data': [{'line': {'color': 'blue'},\n",
              "              'name': 'Noise',\n",
              "              'type': 'scatter',\n",
              "              'uid': 'e2d73a1c-aa25-412b-9fb9-ad12e4867913',\n",
              "              'xaxis': 'x',\n",
              "              'yaxis': 'y'}],\n",
              "    'layout': {'annotations': [{'font': {'size': 16},\n",
              "                                'showarrow': False,\n",
              "                                'text': 'Noise Signal',\n",
              "                                'x': 0.5,\n",
              "                                'xanchor': 'center',\n",
              "                                'xref': 'paper',\n",
              "                                'y': 1.0,\n",
              "                                'yanchor': 'bottom',\n",
              "                                'yref': 'paper'}],\n",
              "               'height': 600,\n",
              "               'showlegend': True,\n",
              "               'template': '...',\n",
              "               'title': {'text': 'Noise Signal Analysis - Recording P8-night3'},\n",
              "               'xaxis': {'anchor': 'y', 'domain': [0.0, 1.0], 'title': {'text': 'Time (seconds)'}},\n",
              "               'yaxis': {'anchor': 'x', 'domain': [0.0, 1.0], 'title': {'text': 'Noise Level'}}}\n",
              "})"
            ]
          },
          "metadata": {},
          "output_type": "display_data"
        }
      ],
      "source": [
        "import ipywidgets as widgets\n",
        "from IPython.display import display\n",
        "import plotly.graph_objects as go\n",
        "from plotly.subplots import make_subplots\n",
        "\n",
        "# Create widgets for controlling the window\n",
        "start_slider = widgets.FloatSlider(\n",
        "    value=0,\n",
        "    min=0,\n",
        "    max=duration_seconds - 60,  # Leave room for the window\n",
        "    step=10,\n",
        "    description='Start Time (s):',\n",
        "    style={'description_width': 'initial'},\n",
        "    layout={'width': '500px'}\n",
        ")\n",
        "\n",
        "window_size = widgets.Dropdown(\n",
        "    options=[('10 seconds', 10), ('30 seconds', 30), ('1 minute', 60), ('5 minutes', 300)],\n",
        "    value=60,\n",
        "    description='Window Size:',\n",
        "    style={'description_width': 'initial'}\n",
        ")\n",
        "\n",
        "# Create initial figure\n",
        "fig = go.FigureWidget(make_subplots(\n",
        "    rows=1, cols=1,\n",
        "    vertical_spacing=0.05,\n",
        "    subplot_titles=(\"Noise Signal\",)\n",
        "))\n",
        "\n",
        "# Initialize with empty trace\n",
        "fig.add_trace(go.Scatter(name=\"Noise\", line=dict(color='blue')), row=1, col=1)\n",
        "\n",
        "# Update layout\n",
        "fig.update_layout(\n",
        "    height=600,\n",
        "    title=f\"Noise Signal Analysis - Recording {str(sample_recording)}\",\n",
        "    showlegend=True,\n",
        "    template=\"plotly_white\"\n",
        ")\n",
        "\n",
        "# Update axes labels\n",
        "fig.update_yaxes(title_text=\"Noise Level\", row=1, col=1)\n",
        "fig.update_xaxes(title_text=\"Time (seconds)\", row=1, col=1)\n",
        "\n",
        "def update_plot(start_time, window_duration):\n",
        "    # Calculate indices for the window\n",
        "    start_idx = int(start_time * noise_signal.sample_rate)\n",
        "    end_idx = int((start_time + window_duration) * noise_signal.sample_rate)\n",
        "    \n",
        "    # Create time array for the window\n",
        "    time_window = np.linspace(start_time, start_time + window_duration, end_idx - start_idx)\n",
        "    \n",
        "    # Get signal segment\n",
        "    noise_segment = noise_signal.array.squeeze()[start_idx:end_idx]\n",
        "    \n",
        "    # Update trace with new data\n",
        "    with fig.batch_update():\n",
        "        fig.data[0].x = time_window\n",
        "        fig.data[0].y = noise_segment\n",
        "\n",
        "# Create the interactive plot\n",
        "def on_change(change):\n",
        "    if change['type'] == 'change' and change['name'] == 'value':\n",
        "        update_plot(start_slider.value, window_size.value)\n",
        "\n",
        "# Link the widgets to the update function\n",
        "start_slider.observe(on_change)\n",
        "window_size.observe(on_change)\n",
        "\n",
        "# Display widgets and initial plot\n",
        "display(widgets.HBox([start_slider, window_size]))\n",
        "display(fig)\n",
        "\n",
        "# Initialize the plot\n",
        "update_plot(start_slider.value, window_size.value)\n"
      ]
    }
  ],
  "metadata": {
    "kernelspec": {
      "display_name": ".venv",
      "language": "python",
      "name": "python3"
    },
    "language_info": {
      "codemirror_mode": {
        "name": "ipython",
        "version": 3
      },
      "file_extension": ".py",
      "mimetype": "text/x-python",
      "name": "python",
      "nbconvert_exporter": "python",
      "pygments_lexer": "ipython3",
      "version": "3.10.15"
    }
  },
  "nbformat": 4,
  "nbformat_minor": 2
}
